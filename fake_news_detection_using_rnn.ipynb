{
  "metadata": {
    "kernelspec": {
      "language": "python",
      "display_name": "Python 3",
      "name": "python3"
    },
    "language_info": {
      "name": "python",
      "version": "3.7.6",
      "mimetype": "text/x-python",
      "codemirror_mode": {
        "name": "ipython",
        "version": 3
      },
      "pygments_lexer": "ipython3",
      "nbconvert_exporter": "python",
      "file_extension": ".py"
    },
    "colab": {
      "provenance": []
    }
  },
  "nbformat_minor": 0,
  "nbformat": 4,
  "cells": [
    {
      "cell_type": "markdown",
      "source": [
        "# Fake News Detection Using RNN \n",
        "\n",
        "This notebook aims to classify fake news from real news using a recurrent neural network. To simplify the text preprocessing procedure, we will be using the built in functions from tensorflow instead of more established libraries like NLTK. \n",
        "\n",
        "Here are the results:\n",
        "\n",
        "* Accuracy on testing set: 0.9904231625835189\n",
        "* Precision on testing set: 0.9879573876794813\n",
        "* Recall on testing set: 0.9920930232558139\n",
        "\n",
        "Dataset Link: https://www.kaggle.com/datasets/clmentbisaillon/fake-and-real-news-dataset"
      ],
      "metadata": {
        "id": "D1gpgydJeDF-"
      }
    },
    {
      "cell_type": "code",
      "source": [
        "import pandas as pd \n",
        "import matplotlib.pyplot as plt \n",
        "import numpy as np \n",
        "import tensorflow as tf \n",
        "import re \n",
        "from tensorflow.keras.preprocessing.text import Tokenizer\n",
        "import tensorflow as tf\n",
        "from sklearn.metrics import accuracy_score\n",
        "from sklearn.model_selection import train_test_split\n",
        "from sklearn.metrics import accuracy_score, confusion_matrix, precision_score, recall_score\n",
        "import seaborn as sns \n",
        "plt.style.use('ggplot')"
      ],
      "metadata": {
        "_uuid": "8f2839f25d086af736a60e9eeb907d3b93b6e0e5",
        "_cell_guid": "b1076dfc-b9ad-4769-8c92-a6c4dae69d19",
        "execution": {
          "iopub.status.busy": "2021-12-06T15:44:44.352188Z",
          "iopub.execute_input": "2021-12-06T15:44:44.352522Z",
          "iopub.status.idle": "2021-12-06T15:44:49.157863Z",
          "shell.execute_reply.started": "2021-12-06T15:44:44.352490Z",
          "shell.execute_reply": "2021-12-06T15:44:49.157025Z"
        },
        "trusted": true,
        "id": "2MTtXCNqeDGE"
      },
      "execution_count": null,
      "outputs": []
    },
    {
      "cell_type": "markdown",
      "source": [
        "Read the data "
      ],
      "metadata": {
        "id": "4sYrw26UeDGG"
      }
    },
    {
      "cell_type": "code",
      "source": [
        "fake_df = pd.read_csv('/content/Fake.csv')\n",
        "real_df = pd.read_csv('/content//True.csv')"
      ],
      "metadata": {
        "_uuid": "d629ff2d2480ee46fbb7e2d37f6b5fab8052498a",
        "_cell_guid": "79c7e3d0-c299-4dcb-8224-4455121ee9b0",
        "execution": {
          "iopub.status.busy": "2021-12-06T15:44:49.159927Z",
          "iopub.execute_input": "2021-12-06T15:44:49.160432Z",
          "iopub.status.idle": "2021-12-06T15:44:51.459560Z",
          "shell.execute_reply.started": "2021-12-06T15:44:49.160378Z",
          "shell.execute_reply": "2021-12-06T15:44:51.458783Z"
        },
        "trusted": true,
        "id": "2oQvQwG_eDGG"
      },
      "execution_count": null,
      "outputs": []
    },
    {
      "cell_type": "markdown",
      "source": [
        "Checking for null values "
      ],
      "metadata": {
        "id": "vMjXG3OVeDGH"
      }
    },
    {
      "cell_type": "code",
      "source": [
        "fake_df.isnull().sum()"
      ],
      "metadata": {
        "execution": {
          "iopub.status.busy": "2021-12-06T15:44:51.462981Z",
          "iopub.execute_input": "2021-12-06T15:44:51.463238Z",
          "iopub.status.idle": "2021-12-06T15:44:51.483272Z",
          "shell.execute_reply.started": "2021-12-06T15:44:51.463212Z",
          "shell.execute_reply": "2021-12-06T15:44:51.482271Z"
        },
        "trusted": true,
        "id": "c4Gn1u2KeDGH",
        "outputId": "fe755f7d-f9d9-470e-c3bd-43bc90fabe9b"
      },
      "execution_count": null,
      "outputs": [
        {
          "execution_count": 3,
          "output_type": "execute_result",
          "data": {
            "text/plain": "title      0\ntext       0\nsubject    0\ndate       0\ndtype: int64"
          },
          "metadata": {}
        }
      ]
    },
    {
      "cell_type": "code",
      "source": [
        "real_df.isnull().sum()"
      ],
      "metadata": {
        "execution": {
          "iopub.status.busy": "2021-12-06T15:44:51.484725Z",
          "iopub.execute_input": "2021-12-06T15:44:51.485338Z",
          "iopub.status.idle": "2021-12-06T15:44:51.504944Z",
          "shell.execute_reply.started": "2021-12-06T15:44:51.485298Z",
          "shell.execute_reply": "2021-12-06T15:44:51.503978Z"
        },
        "trusted": true,
        "id": "kn26FlEReDGI",
        "outputId": "6c5af38b-4e35-44fb-b7f6-dc1c9534d8d3"
      },
      "execution_count": null,
      "outputs": [
        {
          "execution_count": 4,
          "output_type": "execute_result",
          "data": {
            "text/plain": "title      0\ntext       0\nsubject    0\ndate       0\ndtype: int64"
          },
          "metadata": {}
        }
      ]
    },
    {
      "cell_type": "markdown",
      "source": [
        "Checking for unique values for subject. We want both data frames to have a similar distribution."
      ],
      "metadata": {
        "id": "hTc4LFqseDGJ"
      }
    },
    {
      "cell_type": "code",
      "source": [
        "fake_df.subject.unique()"
      ],
      "metadata": {
        "execution": {
          "iopub.status.busy": "2021-12-06T15:44:51.509028Z",
          "iopub.execute_input": "2021-12-06T15:44:51.509612Z",
          "iopub.status.idle": "2021-12-06T15:44:51.519941Z",
          "shell.execute_reply.started": "2021-12-06T15:44:51.509571Z",
          "shell.execute_reply": "2021-12-06T15:44:51.518901Z"
        },
        "trusted": true,
        "id": "aJEwVQ9veDGJ",
        "outputId": "75744056-606c-47ec-a0b9-8f99bd98efab"
      },
      "execution_count": null,
      "outputs": [
        {
          "execution_count": 5,
          "output_type": "execute_result",
          "data": {
            "text/plain": "array(['News', 'politics', 'Government News', 'left-news', 'US_News',\n       'Middle-east'], dtype=object)"
          },
          "metadata": {}
        }
      ]
    },
    {
      "cell_type": "code",
      "source": [
        "real_df.subject.unique()"
      ],
      "metadata": {
        "execution": {
          "iopub.status.busy": "2021-12-06T15:44:51.523155Z",
          "iopub.execute_input": "2021-12-06T15:44:51.523799Z",
          "iopub.status.idle": "2021-12-06T15:44:51.531787Z",
          "shell.execute_reply.started": "2021-12-06T15:44:51.523760Z",
          "shell.execute_reply": "2021-12-06T15:44:51.530989Z"
        },
        "trusted": true,
        "id": "WMWH2iofeDGK",
        "outputId": "bfc8b036-e40d-4b2c-ca82-8a042dcf034f"
      },
      "execution_count": null,
      "outputs": [
        {
          "execution_count": 6,
          "output_type": "execute_result",
          "data": {
            "text/plain": "array(['politicsNews', 'worldnews'], dtype=object)"
          },
          "metadata": {}
        }
      ]
    },
    {
      "cell_type": "markdown",
      "source": [
        "Drop the date from the dataset, I don't think there is a strong correlation between date and validity of the news. As we see above, subjects are not distributed evenly. We do not want that to influence the accuracy of our classifier. Therefore, we need to drop that as well. "
      ],
      "metadata": {
        "id": "-WJ_d8dkeDGK"
      }
    },
    {
      "cell_type": "code",
      "source": [
        "fake_df.drop(['date', 'subject'], axis=1, inplace=True)\n",
        "real_df.drop(['date', 'subject'], axis=1, inplace=True)"
      ],
      "metadata": {
        "execution": {
          "iopub.status.busy": "2021-12-06T15:44:51.533212Z",
          "iopub.execute_input": "2021-12-06T15:44:51.533698Z",
          "iopub.status.idle": "2021-12-06T15:44:51.547417Z",
          "shell.execute_reply.started": "2021-12-06T15:44:51.533662Z",
          "shell.execute_reply": "2021-12-06T15:44:51.546728Z"
        },
        "trusted": true,
        "id": "5f56-DH5eDGK"
      },
      "execution_count": null,
      "outputs": []
    },
    {
      "cell_type": "markdown",
      "source": [
        "0 for fake news, and 1 for real news"
      ],
      "metadata": {
        "id": "BVJYH4ddeDGL"
      }
    },
    {
      "cell_type": "code",
      "source": [
        "fake_df['class'] = 0 \n",
        "real_df['class'] = 1"
      ],
      "metadata": {
        "execution": {
          "iopub.status.busy": "2021-12-06T15:44:51.550496Z",
          "iopub.execute_input": "2021-12-06T15:44:51.550738Z",
          "iopub.status.idle": "2021-12-06T15:44:51.555578Z",
          "shell.execute_reply.started": "2021-12-06T15:44:51.550714Z",
          "shell.execute_reply": "2021-12-06T15:44:51.554798Z"
        },
        "trusted": true,
        "id": "UWA7VLMFeDGL"
      },
      "execution_count": null,
      "outputs": []
    },
    {
      "cell_type": "markdown",
      "source": [
        "Check out the distribution of fake news compare to real news"
      ],
      "metadata": {
        "id": "-0TxaGaeeDGL"
      }
    },
    {
      "cell_type": "code",
      "source": [
        "plt.figure(figsize=(10, 5))\n",
        "plt.bar('Fake News', len(fake_df), color='orange')\n",
        "plt.bar('Real News', len(real_df), color='green')\n",
        "plt.title('Distribution of Fake News and Real News', size=15)\n",
        "plt.xlabel('News Type', size=15)\n",
        "plt.ylabel('# of News Articles', size=15)\n",
        "\n",
        "\n",
        "total_len = len(fake_df) + len(real_df)\n",
        "plt.figure(figsize=(10, 5))\n",
        "plt.bar('Fake News', len(fake_df) / total_len, color='orange')\n",
        "plt.bar('Real News', len(real_df) / total_len, color='green')\n",
        "plt.title('Distribution of Fake News and Real News', size=15)\n",
        "plt.xlabel('News Type', size=15)\n",
        "plt.ylabel('Proportion of News Articles', size=15)"
      ],
      "metadata": {
        "execution": {
          "iopub.status.busy": "2021-12-06T15:44:51.557151Z",
          "iopub.execute_input": "2021-12-06T15:44:51.557714Z",
          "iopub.status.idle": "2021-12-06T15:44:51.808023Z",
          "shell.execute_reply.started": "2021-12-06T15:44:51.557605Z",
          "shell.execute_reply": "2021-12-06T15:44:51.807128Z"
        },
        "trusted": true,
        "id": "aot1LTAgeDGL",
        "outputId": "2c60c6a2-6b7c-42cc-b75a-6ee2e98c60c7"
      },
      "execution_count": null,
      "outputs": [
        {
          "execution_count": 9,
          "output_type": "execute_result",
          "data": {
            "text/plain": "Text(0, 0.5, 'Proportion of News Articles')"
          },
          "metadata": {}
        },
        {
          "output_type": "display_data",
          "data": {
            "text/plain": "<Figure size 720x360 with 1 Axes>",
            "image/png": "[encoded data removed]"
          },
          "metadata": {}
        },
        {
          "output_type": "display_data",
          "data": {
            "text/plain": "<Figure size 720x360 with 1 Axes>",
            "image/png": "[encoded data removed]"
          },
          "metadata": {}
        }
      ]
    },
    {
      "cell_type": "code",
      "source": [
        "print('Difference in news articles:',len(fake_df)-len(real_df))"
      ],
      "metadata": {
        "execution": {
          "iopub.status.busy": "2021-12-06T15:44:51.809321Z",
          "iopub.execute_input": "2021-12-06T15:44:51.809941Z",
          "iopub.status.idle": "2021-12-06T15:44:51.816690Z",
          "shell.execute_reply.started": "2021-12-06T15:44:51.809899Z",
          "shell.execute_reply": "2021-12-06T15:44:51.815397Z"
        },
        "trusted": true,
        "id": "YqkQ7EsEeDGM",
        "outputId": "8b14dbde-3444-494a-82df-0efdcf58493e"
      },
      "execution_count": null,
      "outputs": [
        {
          "name": "stdout",
          "text": "Difference in news articles: 2064\n",
          "output_type": "stream"
        }
      ]
    },
    {
      "cell_type": "code",
      "source": [
        "news_df = pd.concat([fake_df, real_df], ignore_index=True, sort=False)\n",
        "news_df"
      ],
      "metadata": {
        "execution": {
          "iopub.status.busy": "2021-12-06T15:44:51.818305Z",
          "iopub.execute_input": "2021-12-06T15:44:51.819006Z",
          "iopub.status.idle": "2021-12-06T15:44:51.841204Z",
          "shell.execute_reply.started": "2021-12-06T15:44:51.818964Z",
          "shell.execute_reply": "2021-12-06T15:44:51.840368Z"
        },
        "trusted": true,
        "id": "SwjqW7xpeDGM",
        "outputId": "390d9f7b-6d78-4ec0-8f76-b9e28151d175"
      },
      "execution_count": null,
      "outputs": [
        {
          "execution_count": 11,
          "output_type": "execute_result",
          "data": {
            "text/plain": "                                                   title  \\\n0       Donald Trump Sends Out Embarrassing New Year’...   \n1       Drunk Bragging Trump Staffer Started Russian ...   \n2       Sheriff David Clarke Becomes An Internet Joke...   \n3       Trump Is So Obsessed He Even Has Obama’s Name...   \n4       Pope Francis Just Called Out Donald Trump Dur...   \n...                                                  ...   \n44893  'Fully committed' NATO backs new U.S. approach...   \n44894  LexisNexis withdrew two products from Chinese ...   \n44895  Minsk cultural hub becomes haven from authorities   \n44896  Vatican upbeat on possibility of Pope Francis ...   \n44897  Indonesia to buy $1.14 billion worth of Russia...   \n\n                                                    text  class  \n0      Donald Trump just couldn t wish all Americans ...      0  \n1      House Intelligence Committee Chairman Devin Nu...      0  \n2      On Friday, it was revealed that former Milwauk...      0  \n3      On Christmas day, Donald Trump announced that ...      0  \n4      Pope Francis used his annual Christmas Day mes...      0  \n...                                                  ...    ...  \n44893  BRUSSELS (Reuters) - NATO allies on Tuesday we...      1  \n44894  LONDON (Reuters) - LexisNexis, a provider of l...      1  \n44895  MINSK (Reuters) - In the shadow of disused Sov...      1  \n44896  MOSCOW (Reuters) - Vatican Secretary of State ...      1  \n44897  JAKARTA (Reuters) - Indonesia will buy 11 Sukh...      1  \n\n[44898 rows x 3 columns]",
            "text/html": "<div>\n<style scoped>\n    .dataframe tbody tr th:only-of-type {\n        vertical-align: middle;\n    }\n\n    .dataframe tbody tr th {\n        vertical-align: top;\n    }\n\n    .dataframe thead th {\n        text-align: right;\n    }\n</style>\n<table border=\"1\" class=\"dataframe\">\n  <thead>\n    <tr style=\"text-align: right;\">\n      <th></th>\n      <th>title</th>\n      <th>text</th>\n      <th>class</th>\n    </tr>\n  </thead>\n  <tbody>\n    <tr>\n      <th>0</th>\n      <td>Donald Trump Sends Out Embarrassing New Year’...</td>\n      <td>Donald Trump just couldn t wish all Americans ...</td>\n      <td>0</td>\n    </tr>\n    <tr>\n      <th>1</th>\n      <td>Drunk Bragging Trump Staffer Started Russian ...</td>\n      <td>House Intelligence Committee Chairman Devin Nu...</td>\n      <td>0</td>\n    </tr>\n    <tr>\n      <th>2</th>\n      <td>Sheriff David Clarke Becomes An Internet Joke...</td>\n      <td>On Friday, it was revealed that former Milwauk...</td>\n      <td>0</td>\n    </tr>\n    <tr>\n      <th>3</th>\n      <td>Trump Is So Obsessed He Even Has Obama’s Name...</td>\n      <td>On Christmas day, Donald Trump announced that ...</td>\n      <td>0</td>\n    </tr>\n    <tr>\n      <th>4</th>\n      <td>Pope Francis Just Called Out Donald Trump Dur...</td>\n      <td>Pope Francis used his annual Christmas Day mes...</td>\n      <td>0</td>\n    </tr>\n    <tr>\n      <th>...</th>\n      <td>...</td>\n      <td>...</td>\n      <td>...</td>\n    </tr>\n    <tr>\n      <th>44893</th>\n      <td>'Fully committed' NATO backs new U.S. approach...</td>\n      <td>BRUSSELS (Reuters) - NATO allies on Tuesday we...</td>\n      <td>1</td>\n    </tr>\n    <tr>\n      <th>44894</th>\n      <td>LexisNexis withdrew two products from Chinese ...</td>\n      <td>LONDON (Reuters) - LexisNexis, a provider of l...</td>\n      <td>1</td>\n    </tr>\n    <tr>\n      <th>44895</th>\n      <td>Minsk cultural hub becomes haven from authorities</td>\n      <td>MINSK (Reuters) - In the shadow of disused Sov...</td>\n      <td>1</td>\n    </tr>\n    <tr>\n      <th>44896</th>\n      <td>Vatican upbeat on possibility of Pope Francis ...</td>\n      <td>MOSCOW (Reuters) - Vatican Secretary of State ...</td>\n      <td>1</td>\n    </tr>\n    <tr>\n      <th>44897</th>\n      <td>Indonesia to buy $1.14 billion worth of Russia...</td>\n      <td>JAKARTA (Reuters) - Indonesia will buy 11 Sukh...</td>\n      <td>1</td>\n    </tr>\n  </tbody>\n</table>\n<p>44898 rows × 3 columns</p>\n</div>"
          },
          "metadata": {}
        }
      ]
    },
    {
      "cell_type": "markdown",
      "source": [
        "Combining the title with the text, it is much easier to process this way. "
      ],
      "metadata": {
        "id": "czJeoFTceDGN"
      }
    },
    {
      "cell_type": "code",
      "source": [
        "news_df['text'] = news_df['title'] + news_df['text']\n",
        "news_df.drop('title', axis=1, inplace=True)"
      ],
      "metadata": {
        "execution": {
          "iopub.status.busy": "2021-12-06T15:44:51.842629Z",
          "iopub.execute_input": "2021-12-06T15:44:51.843013Z",
          "iopub.status.idle": "2021-12-06T15:44:52.000602Z",
          "shell.execute_reply.started": "2021-12-06T15:44:51.842976Z",
          "shell.execute_reply": "2021-12-06T15:44:51.999770Z"
        },
        "trusted": true,
        "id": "iPk5IrTeeDGN"
      },
      "execution_count": null,
      "outputs": []
    },
    {
      "cell_type": "markdown",
      "source": [
        "Split into training and testing "
      ],
      "metadata": {
        "id": "H1SIM6EveDGN"
      }
    },
    {
      "cell_type": "code",
      "source": [
        "features = news_df['text']\n",
        "targets = news_df['class']\n",
        "\n",
        "X_train, X_test, y_train, y_test = train_test_split(features, targets, test_size=0.20, random_state=18)"
      ],
      "metadata": {
        "execution": {
          "iopub.status.busy": "2021-12-06T15:44:52.002035Z",
          "iopub.execute_input": "2021-12-06T15:44:52.002386Z",
          "iopub.status.idle": "2021-12-06T15:44:52.015290Z",
          "shell.execute_reply.started": "2021-12-06T15:44:52.002350Z",
          "shell.execute_reply": "2021-12-06T15:44:52.014506Z"
        },
        "trusted": true,
        "id": "D-_oE9hUeDGN"
      },
      "execution_count": null,
      "outputs": []
    },
    {
      "cell_type": "markdown",
      "source": [
        "Normalizing our data: lower case, get rid of extra spaces, and url links. "
      ],
      "metadata": {
        "id": "fYSlf3gIeDGN"
      }
    },
    {
      "cell_type": "code",
      "source": [
        "def normalize(data):\n",
        "    normalized = []\n",
        "    for i in data:\n",
        "        i = i.lower()\n",
        "        # get rid of urls\n",
        "        i = re.sub('https?://\\S+|www\\.\\S+', '', i)\n",
        "        # get rid of non words and extra spaces\n",
        "        i = re.sub('\\\\W', ' ', i)\n",
        "        i = re.sub('\\n', '', i)\n",
        "        i = re.sub(' +', ' ', i)\n",
        "        i = re.sub('^ ', '', i)\n",
        "        i = re.sub(' $', '', i)\n",
        "        normalized.append(i)\n",
        "    return normalized\n",
        "\n",
        "X_train = normalize(X_train)\n",
        "X_test = normalize(X_test)"
      ],
      "metadata": {
        "execution": {
          "iopub.status.busy": "2021-12-06T15:44:52.018141Z",
          "iopub.execute_input": "2021-12-06T15:44:52.018508Z",
          "iopub.status.idle": "2021-12-06T15:45:12.492930Z",
          "shell.execute_reply.started": "2021-12-06T15:44:52.018474Z",
          "shell.execute_reply": "2021-12-06T15:45:12.492034Z"
        },
        "trusted": true,
        "id": "0wwJ87QWeDGO"
      },
      "execution_count": null,
      "outputs": []
    },
    {
      "cell_type": "code",
      "source": [
        "max_vocab = 10000\n",
        "tokenizer = Tokenizer(num_words=max_vocab)\n",
        "tokenizer.fit_on_texts(X_train)"
      ],
      "metadata": {
        "execution": {
          "iopub.status.busy": "2021-12-06T15:45:12.494218Z",
          "iopub.execute_input": "2021-12-06T15:45:12.494586Z",
          "iopub.status.idle": "2021-12-06T15:45:22.534183Z",
          "shell.execute_reply.started": "2021-12-06T15:45:12.494550Z",
          "shell.execute_reply": "2021-12-06T15:45:22.533276Z"
        },
        "trusted": true,
        "id": "BJGLeg_3eDGO"
      },
      "execution_count": null,
      "outputs": []
    },
    {
      "cell_type": "markdown",
      "source": [
        "Convert text to vectors, our classifier only takes numerical data. "
      ],
      "metadata": {
        "id": "rrAVy4DXeDGO"
      }
    },
    {
      "cell_type": "code",
      "source": [
        "# tokenize the text into vectors \n",
        "X_train = tokenizer.texts_to_sequences(X_train)\n",
        "X_test = tokenizer.texts_to_sequences(X_test)"
      ],
      "metadata": {
        "execution": {
          "iopub.status.busy": "2021-12-06T15:45:22.535581Z",
          "iopub.execute_input": "2021-12-06T15:45:22.535928Z",
          "iopub.status.idle": "2021-12-06T15:45:33.756378Z",
          "shell.execute_reply.started": "2021-12-06T15:45:22.535893Z",
          "shell.execute_reply": "2021-12-06T15:45:33.755585Z"
        },
        "trusted": true,
        "id": "EZQE-1lLeDGO"
      },
      "execution_count": null,
      "outputs": []
    },
    {
      "cell_type": "markdown",
      "source": [
        "Apply padding so we have the same length for each article "
      ],
      "metadata": {
        "id": "DmFWYV54eDGO"
      }
    },
    {
      "cell_type": "code",
      "source": [
        "X_train = tf.keras.preprocessing.sequence.pad_sequences(X_train, padding='post', maxlen=256)\n",
        "X_test = tf.keras.preprocessing.sequence.pad_sequences(X_test, padding='post', maxlen=256)"
      ],
      "metadata": {
        "execution": {
          "iopub.status.busy": "2021-12-06T15:45:33.757995Z",
          "iopub.execute_input": "2021-12-06T15:45:33.758309Z",
          "iopub.status.idle": "2021-12-06T15:45:35.900120Z",
          "shell.execute_reply.started": "2021-12-06T15:45:33.758274Z",
          "shell.execute_reply": "2021-12-06T15:45:35.899291Z"
        },
        "trusted": true,
        "id": "_NKEBgd_eDGO"
      },
      "execution_count": null,
      "outputs": []
    },
    {
      "cell_type": "markdown",
      "source": [
        "Building the RNN."
      ],
      "metadata": {
        "id": "RrfS05g-eDGP"
      }
    },
    {
      "cell_type": "code",
      "source": [
        "model = tf.keras.Sequential([\n",
        "    tf.keras.layers.Embedding(max_vocab, 128),\n",
        "    tf.keras.layers.Bidirectional(tf.keras.layers.LSTM(64,  return_sequences=True)),\n",
        "    tf.keras.layers.Bidirectional(tf.keras.layers.LSTM(16)),\n",
        "    tf.keras.layers.Dense(64, activation='relu'),\n",
        "    tf.keras.layers.Dropout(0.5),\n",
        "    tf.keras.layers.Dense(1)\n",
        "])\n",
        "\n",
        "model.summary()"
      ],
      "metadata": {
        "execution": {
          "iopub.status.busy": "2021-12-06T15:45:35.901619Z",
          "iopub.execute_input": "2021-12-06T15:45:35.901965Z",
          "iopub.status.idle": "2021-12-06T15:45:39.101480Z",
          "shell.execute_reply.started": "2021-12-06T15:45:35.901927Z",
          "shell.execute_reply": "2021-12-06T15:45:39.100729Z"
        },
        "trusted": true,
        "id": "u6VYvNBAeDGP",
        "outputId": "176f6148-8be3-4b58-95b0-17d23a3df766"
      },
      "execution_count": null,
      "outputs": [
        {
          "name": "stdout",
          "text": "Model: \"sequential\"\n_________________________________________________________________\nLayer (type)                 Output Shape              Param #   \n=================================================================\nembedding (Embedding)        (None, None, 128)         1280000   \n_________________________________________________________________\nbidirectional (Bidirectional (None, None, 128)         98816     \n_________________________________________________________________\nbidirectional_1 (Bidirection (None, 32)                18560     \n_________________________________________________________________\ndense (Dense)                (None, 64)                2112      \n_________________________________________________________________\ndropout (Dropout)            (None, 64)                0         \n_________________________________________________________________\ndense_1 (Dense)              (None, 1)                 65        \n=================================================================\nTotal params: 1,399,553\nTrainable params: 1,399,553\nNon-trainable params: 0\n_________________________________________________________________\n",
          "output_type": "stream"
        }
      ]
    },
    {
      "cell_type": "markdown",
      "source": [
        "We are going to use early stop, which stops when the validation loss no longer improve."
      ],
      "metadata": {
        "id": "m-sYRvYLeDGP"
      }
    },
    {
      "cell_type": "code",
      "source": [
        "early_stop = tf.keras.callbacks.EarlyStopping(monitor='val_loss', patience=2, restore_best_weights=True)\n",
        "model.compile(loss=tf.keras.losses.BinaryCrossentropy(from_logits=True),\n",
        "              optimizer=tf.keras.optimizers.Adam(1e-4),\n",
        "              metrics=['accuracy'])\n",
        "\n",
        "history = model.fit(X_train, y_train, epochs=10,validation_split=0.1, batch_size=30, shuffle=True, callbacks=[early_stop])"
      ],
      "metadata": {
        "execution": {
          "iopub.status.busy": "2021-12-06T15:45:39.104760Z",
          "iopub.execute_input": "2021-12-06T15:45:39.105023Z",
          "iopub.status.idle": "2021-12-06T15:49:40.730575Z",
          "shell.execute_reply.started": "2021-12-06T15:45:39.104997Z",
          "shell.execute_reply": "2021-12-06T15:49:40.726662Z"
        },
        "trusted": true,
        "id": "K1IHy68meDGP",
        "outputId": "3c295ebe-0cba-4b4a-bda9-dc8b8bb48918"
      },
      "execution_count": null,
      "outputs": [
        {
          "name": "stdout",
          "text": "Epoch 1/10\n1078/1078 [==============================] - 58s 54ms/step - loss: 0.2372 - accuracy: 0.8835 - val_loss: 0.0514 - val_accuracy: 0.9852\nEpoch 2/10\n1078/1078 [==============================] - 58s 54ms/step - loss: 0.0415 - accuracy: 0.9894 - val_loss: 0.0293 - val_accuracy: 0.9908\nEpoch 3/10\n1078/1078 [==============================] - 59s 55ms/step - loss: 0.0220 - accuracy: 0.9947 - val_loss: 0.0345 - val_accuracy: 0.9886\nEpoch 4/10\n1078/1078 [==============================] - 59s 55ms/step - loss: 0.0115 - accuracy: 0.9976 - val_loss: 0.0297 - val_accuracy: 0.9936\n",
          "output_type": "stream"
        }
      ]
    },
    {
      "cell_type": "markdown",
      "source": [
        "Visualize our training over time "
      ],
      "metadata": {
        "id": "-BeKkD0weDGP"
      }
    },
    {
      "cell_type": "code",
      "source": [
        "history_dict = history.history\n",
        "\n",
        "acc = history_dict['accuracy']\n",
        "val_acc = history_dict['val_accuracy']\n",
        "loss = history_dict['loss']\n",
        "val_loss = history_dict['val_loss']\n",
        "epochs = history.epoch\n",
        "\n",
        "plt.figure(figsize=(12,9))\n",
        "plt.plot(epochs, loss, 'r', label='Training loss')\n",
        "plt.plot(epochs, val_loss, 'b', label='Validation loss')\n",
        "plt.title('Training and validation loss', size=20)\n",
        "plt.xlabel('Epochs', size=20)\n",
        "plt.ylabel('Loss', size=20)\n",
        "plt.legend(prop={'size': 20})\n",
        "plt.show()\n",
        "\n",
        "plt.figure(figsize=(12,9))\n",
        "plt.plot(epochs, acc, 'g', label='Training acc')\n",
        "plt.plot(epochs, val_acc, 'b', label='Validation acc')\n",
        "plt.title('Training and validation accuracy', size=20)\n",
        "plt.xlabel('Epochs', size=20)\n",
        "plt.ylabel('Accuracy', size=20)\n",
        "plt.legend(prop={'size': 20})\n",
        "plt.ylim((0.5,1))\n",
        "plt.show()"
      ],
      "metadata": {
        "execution": {
          "iopub.status.busy": "2021-12-06T15:49:40.742113Z",
          "iopub.execute_input": "2021-12-06T15:49:40.744556Z",
          "iopub.status.idle": "2021-12-06T15:49:41.096267Z",
          "shell.execute_reply.started": "2021-12-06T15:49:40.744510Z",
          "shell.execute_reply": "2021-12-06T15:49:41.095425Z"
        },
        "trusted": true,
        "id": "sV22aMk5eDGQ",
        "outputId": "8b030c6d-598f-4dcf-f67f-1ff4b16b507c"
      },
      "execution_count": null,
      "outputs": [
        {
          "output_type": "display_data",
          "data": {
            "text/plain": "<Figure size 864x648 with 1 Axes>",
            "image/png": "[encoded data removed]"
          },
          "metadata": {}
        },
        {
          "output_type": "display_data",
          "data": {
            "text/plain": "<Figure size 864x648 with 1 Axes>",
            "image/png": "[encoded data removed]"
          },
          "metadata": {}
        }
      ]
    },
    {
      "cell_type": "markdown",
      "source": [
        "Evaluate the testing set "
      ],
      "metadata": {
        "id": "YpoTsk7_eDGQ"
      }
    },
    {
      "cell_type": "code",
      "source": [
        "model.evaluate(X_test, y_test)"
      ],
      "metadata": {
        "execution": {
          "iopub.status.busy": "2021-12-06T15:49:41.097619Z",
          "iopub.execute_input": "2021-12-06T15:49:41.097967Z",
          "iopub.status.idle": "2021-12-06T15:49:46.581968Z",
          "shell.execute_reply.started": "2021-12-06T15:49:41.097929Z",
          "shell.execute_reply": "2021-12-06T15:49:46.581272Z"
        },
        "trusted": true,
        "id": "e80VRD3LeDGQ",
        "outputId": "d0d8647b-3684-4e73-8eb6-ec68a79a799e"
      },
      "execution_count": null,
      "outputs": [
        {
          "name": "stdout",
          "text": "281/281 [==============================] - 5s 19ms/step - loss: 0.0362 - accuracy: 0.9904\n",
          "output_type": "stream"
        },
        {
          "execution_count": 21,
          "output_type": "execute_result",
          "data": {
            "text/plain": "[0.03620703145861626, 0.9904231429100037]"
          },
          "metadata": {}
        }
      ]
    },
    {
      "cell_type": "code",
      "source": [
        "pred = model.predict(X_test)\n",
        "\n",
        "binary_predictions = []\n",
        "\n",
        "for i in pred:\n",
        "    if i >= 0.5:\n",
        "        binary_predictions.append(1)\n",
        "    else:\n",
        "        binary_predictions.append(0) "
      ],
      "metadata": {
        "execution": {
          "iopub.status.busy": "2021-12-06T15:49:46.584957Z",
          "iopub.execute_input": "2021-12-06T15:49:46.585215Z",
          "iopub.status.idle": "2021-12-06T15:49:52.723685Z",
          "shell.execute_reply.started": "2021-12-06T15:49:46.585189Z",
          "shell.execute_reply": "2021-12-06T15:49:52.722769Z"
        },
        "trusted": true,
        "id": "WG2ilDq3eDGQ"
      },
      "execution_count": null,
      "outputs": []
    },
    {
      "cell_type": "code",
      "source": [
        "print('Accuracy on testing set:', accuracy_score(binary_predictions, y_test))\n",
        "print('Precision on testing set:', precision_score(binary_predictions, y_test))\n",
        "print('Recall on testing set:', recall_score(binary_predictions, y_test))"
      ],
      "metadata": {
        "execution": {
          "iopub.status.busy": "2021-12-06T15:49:52.725132Z",
          "iopub.execute_input": "2021-12-06T15:49:52.725492Z",
          "iopub.status.idle": "2021-12-06T15:49:52.768425Z",
          "shell.execute_reply.started": "2021-12-06T15:49:52.725453Z",
          "shell.execute_reply": "2021-12-06T15:49:52.767631Z"
        },
        "trusted": true,
        "id": "Bvhya0XieDGQ",
        "outputId": "833ab777-66c0-4d90-bda2-02056ce11c1b"
      },
      "execution_count": null,
      "outputs": [
        {
          "name": "stdout",
          "text": "Accuracy on testing set: 0.9904231625835189\nPrecision on testing set: 0.9879573876794813\nRecall on testing set: 0.9920930232558139\n",
          "output_type": "stream"
        }
      ]
    },
    {
      "cell_type": "markdown",
      "source": [
        "Confusion matrix \n",
        "\n",
        "Note: confusion matrix is now expressed in terms of percentage rather than frequency."
      ],
      "metadata": {
        "id": "7gyZCTqXeDGR"
      }
    },
    {
      "cell_type": "code",
      "source": [
        "matrix = confusion_matrix(binary_predictions, y_test, normalize='all')\n",
        "plt.figure(figsize=(16, 10))\n",
        "ax= plt.subplot()\n",
        "sns.heatmap(matrix, annot=True, ax = ax)\n",
        "\n",
        "# labels, title and ticks\n",
        "ax.set_xlabel('Predicted Labels', size=20)\n",
        "ax.set_ylabel('True Labels', size=20)\n",
        "ax.set_title('Confusion Matrix', size=20) \n",
        "ax.xaxis.set_ticklabels([0,1], size=15)\n",
        "ax.yaxis.set_ticklabels([0,1], size=15)"
      ],
      "metadata": {
        "execution": {
          "iopub.status.busy": "2021-12-06T15:49:52.769734Z",
          "iopub.execute_input": "2021-12-06T15:49:52.770070Z",
          "iopub.status.idle": "2021-12-06T15:49:52.982629Z",
          "shell.execute_reply.started": "2021-12-06T15:49:52.770038Z",
          "shell.execute_reply": "2021-12-06T15:49:52.981725Z"
        },
        "trusted": true,
        "id": "xK3RdRb0eDGR",
        "outputId": "3a483321-3cdb-4620-d574-1a4d53db1aa7"
      },
      "execution_count": null,
      "outputs": [
        {
          "execution_count": 24,
          "output_type": "execute_result",
          "data": {
            "text/plain": "[Text(0, 0.5, '0'), Text(0, 1.5, '1')]"
          },
          "metadata": {}
        },
        {
          "output_type": "display_data",
          "data": {
            "text/plain": "<Figure size 1152x720 with 2 Axes>",
            "image/png": "[encoded data removed]"
          },
          "metadata": {}
        }
      ]
    },
    {
      "cell_type": "markdown",
      "source": [
        "Saves the weights for visualiation"
      ],
      "metadata": {
        "id": "-jqEGdzJeDGR"
      }
    },
    {
      "cell_type": "code",
      "source": [
        "e = model.layers[0]\n",
        "weights = e.get_weights()[0]\n",
        "print(weights.shape) # shape: (vocab_size, embedding_dim)"
      ],
      "metadata": {
        "execution": {
          "iopub.status.busy": "2021-12-06T15:49:52.984347Z",
          "iopub.execute_input": "2021-12-06T15:49:52.984746Z",
          "iopub.status.idle": "2021-12-06T15:49:52.999228Z",
          "shell.execute_reply.started": "2021-12-06T15:49:52.984705Z",
          "shell.execute_reply": "2021-12-06T15:49:52.998321Z"
        },
        "trusted": true,
        "id": "rr2mYAnyeDGS",
        "outputId": "b2618d11-ae9e-4234-fc50-2f4b6cb75e2c"
      },
      "execution_count": null,
      "outputs": [
        {
          "name": "stdout",
          "text": "(10000, 128)\n",
          "output_type": "stream"
        }
      ]
    },
    {
      "cell_type": "code",
      "source": [
        "word_index = list(tokenizer.word_index.keys())\n",
        "word_index = word_index[:max_vocab-1]"
      ],
      "metadata": {
        "execution": {
          "iopub.status.busy": "2021-12-06T15:49:53.000911Z",
          "iopub.execute_input": "2021-12-06T15:49:53.001275Z",
          "iopub.status.idle": "2021-12-06T15:49:53.013936Z",
          "shell.execute_reply.started": "2021-12-06T15:49:53.001238Z",
          "shell.execute_reply": "2021-12-06T15:49:53.013087Z"
        },
        "trusted": true,
        "id": "s4mP3Ew0eDGS"
      },
      "execution_count": null,
      "outputs": []
    },
    {
      "cell_type": "markdown",
      "source": [
        "Write to file so we can use tensorflow's embedding projector to visualize what our network learned. This is only based on the fake news dataset. "
      ],
      "metadata": {
        "id": "wYvimtn2eDGS"
      }
    },
    {
      "cell_type": "code",
      "source": [
        "import io\n",
        "\n",
        "out_v = io.open('fakenews_vecs.tsv', 'w', encoding='utf-8')\n",
        "out_m = io.open('fakenews_meta.tsv', 'w', encoding='utf-8')\n",
        "\n",
        "for num, word in enumerate(word_index):\n",
        "  vec = weights[num+1] # skip 0, it's padding.\n",
        "  out_m.write(word + \"\\n\")\n",
        "  out_v.write('\\t'.join([str(x) for x in vec]) + \"\\n\")\n",
        "out_v.close()\n",
        "out_m.close()"
      ],
      "metadata": {
        "execution": {
          "iopub.status.busy": "2021-12-06T15:49:53.016200Z",
          "iopub.execute_input": "2021-12-06T15:49:53.017031Z",
          "iopub.status.idle": "2021-12-06T15:49:54.122814Z",
          "shell.execute_reply.started": "2021-12-06T15:49:53.016991Z",
          "shell.execute_reply": "2021-12-06T15:49:54.121953Z"
        },
        "trusted": true,
        "id": "yTKsyiGIeDGS"
      },
      "execution_count": null,
      "outputs": []
    },
    {
      "cell_type": "markdown",
      "source": [
        "Embedding Projector: http://projector.tensorflow.org/\n",
        "<br>Picture credits: https://www.tensorflow.org/tensorboard/images/embedding_projector.png?raw=1\n",
        "\n",
        "![](https://www.tensorflow.org/tensorboard/images/embedding_projector.png?raw=1)"
      ],
      "metadata": {
        "id": "gbv5q3k9eDGT"
      }
    }
  ]
}